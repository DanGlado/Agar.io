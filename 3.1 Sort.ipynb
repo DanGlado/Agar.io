{
 "cells": [
  {
   "cell_type": "code",
   "execution_count": 1,
   "metadata": {
    "collapsed": true
   },
   "outputs": [
    {
     "name": "stdout",
     "output_type": "stream",
     "text": [
      "[17, 32, 96, 38, 11, 45, 94, 59, 20, 94]\n",
      "[11, 17, 20, 32, 38, 45, 59, 94, 94, 96]\n"
     ]
    }
   ],
   "source": [
    "from random import randint\n",
    "\n",
    "N = 10\n",
    "a = []\n",
    "for i in range(N):\n",
    "    a.append(randint(1, 99))\n",
    "print(a)\n",
    "def insertion_sort():\n",
    "    global track, sortedCount, Lis, isSorted\n",
    "    for i in range(1, len(Lis)):\n",
    "        temp = Lis[i]\n",
    "        track = i - 1\n",
    "        while (track >= 0 and temp < Lis[track]):\n",
    "            Lis[track + 1] = Lis[track]\n",
    "            track = track - 1\n",
    "        Lis[track + 1] = temp\n",
    "# insertion_sort()\n",
    "for i in range(N-1):\n",
    "    for j in range(N-i-1):\n",
    "        if a[j] > a[j+1]:\n",
    "            a[j], a[j+1] = a[j+1], a[j]\n",
    "\n",
    "print(a)"
   ]
  },
  {
   "cell_type": "code",
   "execution_count": 23,
   "outputs": [
    {
     "name": "stdout",
     "output_type": "stream",
     "text": [
      "Sorted!\n",
      "[13, 14, 14, 19, 23, 28, 29, 48, 62, 62, 64, 68, 71, 72, 85, 92, 99, 102, 106, 123, 123, 126, 129, 129, 130, 130, 140, 156, 170, 189, 194, 198, 202, 204, 210, 211, 212, 221, 225, 228, 230, 246, 247, 263, 263, 276, 296, 301, 303, 307, 325, 328, 349, 357, 380, 386, 397, 405, 406, 416, 420, 426, 429, 429, 433, 434, 442, 446, 448, 451, 458, 462, 465, 473, 480, 491, 494, 497, 505, 509, 520, 521, 524, 535, 549, 553, 562, 568, 573, 573]\n"
     ]
    },
    {
     "ename": "SystemExit",
     "evalue": "Выход из программы",
     "output_type": "error",
     "traceback": [
      "An exception has occurred, use %tb to see the full traceback.\n",
      "\u001B[1;31mSystemExit\u001B[0m\u001B[1;31m:\u001B[0m Выход из программы\n"
     ]
    }
   ],
   "source": [
    "import pygame, time\n",
    "from random import randint\n",
    "import sys\n",
    "\n",
    "pygame.init()\n",
    "window = pygame.display.set_mode((900, 600))  # set size for display\n",
    "\n",
    "pygame.display.set_caption(\"Bubble-Sort Visualization\")  # Name of display\n",
    "\n",
    "black = pygame.Color(0,0,0)\n",
    "white = pygame.Color(255,255,255)\n",
    "\n",
    "listLength, min_num, max_num = 90, 0, 600\n",
    "\n",
    "xList, top, width_rect = [], 0, 10\n",
    "tmpX = 0\n",
    "\n",
    "Lis = []\n",
    "for i in range(listLength):\n",
    "    Lis.append(randint(min_num, max_num))\n",
    "    xList.append(tmpX)\n",
    "    tmpX += width_rect\n",
    "\n",
    "def draw():\n",
    "    global xList, y, Lis\n",
    "    for i in range(listLength):\n",
    "        pygame.draw.rect(window, white, (xList[i], top, width_rect, Lis[i]), 1)  # 1 - unfill rect  Rect(left, top, width, height)\n",
    "\n",
    "isSorted = False\n",
    "sortedCount = 0\n",
    "track = 0\n",
    "\n",
    "\n",
    "\n",
    "def bubble_step():\n",
    "    global track, sortedCount, Lis, isSorted\n",
    "    if track == listLength - 1:\n",
    "        track = 0\n",
    "    if sortedCount > listLength and isSorted == False:\n",
    "        print(\"Sorted!\")\n",
    "        print(Lis)\n",
    "        isSorted = True\n",
    "    if Lis[track] > Lis[track+1] and isSorted == False:\n",
    "        tmp = Lis[track+1]\n",
    "        pygame.draw.rect(window, pygame.Color('red'), (xList[track], top, width_rect, Lis[track+1]), 0)\n",
    "        pygame.draw.rect(window, pygame.Color('blue'), (xList[track+1], top, width_rect, Lis[track]), 0)\n",
    "        Lis[track+1], Lis[track] = Lis[track], tmp\n",
    "        sortedCount = 0\n",
    "    else:\n",
    "        sortedCount += 1\n",
    "    track += 1\n",
    "\n",
    "while True:\n",
    "    window.fill(black)\n",
    "    # time.sleep(0.1)\n",
    "    bubble_step()\n",
    "    draw()\n",
    "    pygame.display.update()\n",
    "    for event in pygame.event.get():\n",
    "        if event.type == pygame.QUIT:\n",
    "            pygame.quit()\n",
    "            sys.exit(\"Выход из программы\")"
   ],
   "metadata": {
    "collapsed": false,
    "pycharm": {
     "name": "#%%\n"
    }
   }
  },
  {
   "cell_type": "code",
   "execution_count": null,
   "outputs": [],
   "source": [],
   "metadata": {
    "collapsed": false,
    "pycharm": {
     "name": "#%%\n"
    }
   }
  }
 ],
 "metadata": {
  "kernelspec": {
   "display_name": "Python 3",
   "language": "python",
   "name": "python3"
  },
  "language_info": {
   "codemirror_mode": {
    "name": "ipython",
    "version": 2
   },
   "file_extension": ".py",
   "mimetype": "text/x-python",
   "name": "python",
   "nbconvert_exporter": "python",
   "pygments_lexer": "ipython2",
   "version": "2.7.6"
  }
 },
 "nbformat": 4,
 "nbformat_minor": 0
}